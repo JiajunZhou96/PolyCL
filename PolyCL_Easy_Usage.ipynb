{
 "cells": [
  {
   "cell_type": "code",
   "execution_count": 1,
   "metadata": {},
   "outputs": [
    {
     "name": "stdout",
     "output_type": "stream",
     "text": [
      "None\n",
      "./config.json\n"
     ]
    }
   ],
   "source": [
    "# import necessary libraries\n",
    "import torch\n",
    "from transformers import AutoTokenizer, AutoModel, AutoConfig\n",
    "import polycl"
   ]
  },
  {
   "cell_type": "code",
   "execution_count": 2,
   "metadata": {},
   "outputs": [],
   "source": [
    "# Assume we have two polymers and we want to get the embeddings of them\n",
    "polymers = ['[*]Oc1ccc(Cc2ccc([*])cc2)cc1', '[*]CCCCCC(=O)O[*]']\n",
    "\n",
    "# build the model with configs, which defines that the encoder is a DeBERTa-v2 model\n",
    "model_config = polycl.set_dropout(AutoConfig.from_pretrained('./model/model_utils/'), dropout = False)\n",
    "model_arc = AutoModel.from_config(config = model_config)\n",
    "model = polycl.polyCL(encoder = model_arc, pooler = \"cls\")\n",
    "\n",
    "# load the pre-trained weights trained by PolyCL\n",
    "model.from_pretrained('./model/polycl.pth')\n",
    "model.eval()\n",
    "\n",
    "# load the tokenizer\n",
    "tokenizer = AutoTokenizer.from_pretrained('./model/model_utils/')\n",
    "polymer_encoding = tokenizer(polymers, max_length= 512, padding=\"max_length\", truncation=False, return_tensors='pt')\n",
    "\n",
    "# get the embeddings of polymers\n",
    "with torch.no_grad():\n",
    "    model_output, _ = model(polymer_encoding)"
   ]
  },
  {
   "cell_type": "code",
   "execution_count": 3,
   "metadata": {},
   "outputs": [
    {
     "data": {
      "text/plain": [
       "tensor([[ 0.4436, -0.7020,  0.5166,  ...,  0.4623,  0.8483,  0.0059],\n",
       "        [-0.1905, -0.7587,  0.8692,  ...,  0.3571, -0.4137, -0.3830]])"
      ]
     },
     "execution_count": 3,
     "metadata": {},
     "output_type": "execute_result"
    }
   ],
   "source": [
    "# check the result\n",
    "model_output"
   ]
  }
 ],
 "metadata": {
  "kernelspec": {
   "display_name": "polycl",
   "language": "python",
   "name": "python3"
  },
  "language_info": {
   "codemirror_mode": {
    "name": "ipython",
    "version": 3
   },
   "file_extension": ".py",
   "mimetype": "text/x-python",
   "name": "python",
   "nbconvert_exporter": "python",
   "pygments_lexer": "ipython3",
   "version": "3.9.18"
  }
 },
 "nbformat": 4,
 "nbformat_minor": 2
}
